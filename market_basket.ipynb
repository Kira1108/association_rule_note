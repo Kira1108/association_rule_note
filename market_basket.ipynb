{
 "cells": [
  {
   "cell_type": "code",
   "execution_count": 5,
   "metadata": {},
   "outputs": [],
   "source": [
    "import pandas as pd\n",
    "import numpy as np\n",
    "import matplotlib.pyplot as plt\n",
    "from IPython.core.pylabtools import figsize\n",
    "\n",
    "from mlxtend.preprocessing import TransactionEncoder\n",
    "from mlxtend.frequent_patterns import apriori, association_rules\n",
    "\n",
    "def get_data(which = 'book'):\n",
    "    paths = dict(book = 'data/bookstore_transactions.csv',\n",
    "    movie = 'data/movielens_movies.csv',\n",
    "    retail = 'data/online_retail.csv')\n",
    "    return pd.read_csv(paths[which])\n",
    "\n",
    "def get_books_transactions():\n",
    "    books = get_data('book')\n",
    "    books['transactions'] = books.Transaction.apply(lambda x:x.split(','))\n",
    "    return books['transactions'].tolist()\n",
    "\n",
    "def get_retail_transacations():\n",
    "    return get_data('retail').groupby('InvoiceNo')['StockCode']\\\n",
    "            .apply(lambda x:list(x)).tolist()"
   ]
  },
  {
   "cell_type": "markdown",
   "metadata": {},
   "source": [
    "*Use a counter to calculate metrics*"
   ]
  },
  {
   "cell_type": "code",
   "execution_count": 6,
   "metadata": {},
   "outputs": [
    {
     "data": {
      "text/plain": [
       "0.25252525252525254"
      ]
     },
     "execution_count": 6,
     "metadata": {},
     "output_type": "execute_result"
    }
   ],
   "source": [
    "def confidence(transactions, sub, parent):\n",
    "    return transactions.count(sub) / len([tran for tran in transactions if parent in tran])\n",
    "    \n",
    "def support(transactions, item):\n",
    "    return len([tran for tran in transactions if parent in tran]) / len(transactions)\n",
    "\n",
    "transactions = get_books_transactions()\n",
    "confidence(transactions,['History','Bookmark'],'Bookmark')"
   ]
  },
  {
   "cell_type": "markdown",
   "metadata": {},
   "source": [
    "#### Market Basket Calculator\n",
    "\n",
    "*To use association algorithms, you have to understand the math, probability calculations*"
   ]
  },
  {
   "cell_type": "code",
   "execution_count": 167,
   "metadata": {},
   "outputs": [],
   "source": [
    "class BasketCalculator():\n",
    "    '''\n",
    "        Use case：\n",
    "        ```python\n",
    "            # define a calculator object with dataset\n",
    "            market = BasketCalculator(get_retail_transacations())\n",
    "\n",
    "            # select 2 items\n",
    "            u,v = market.random_items(2)\n",
    "\n",
    "            # calculate metrics\n",
    "            support_u = market.support(u)\n",
    "            support_uv = market.support([u,v])\n",
    "            confidence_uv = market.confidence(u,v)\n",
    "            lift_uv = market.lift(u,v)\n",
    "            conviction_uv = market.conviction(u,v)\n",
    "            zhang_uv = market.zhang(u,v)\n",
    "        ```\n",
    "            \n",
    "        How to measure metrics:\n",
    "            For all metrics, the larger the metric,  the stronger the rule is ~\n",
    "            It is just a game of probability\n",
    "            \n",
    "        The range of metrics varies, e.g. 1 is maximum value for leverage, but not lift\n",
    "        \n",
    "        When you are doing rule filtering: consider magnitude of metrics:\n",
    "        \n",
    "            support: interpreted as probability~\n",
    "            confidence: interpreted as probability~\n",
    "            lift: ratio of expectation and observation, greater than 1 for good rules\n",
    "            leverage: difference of expectation and observation, greater than 0 for good rules\n",
    "            conviction: ratio of u and ~v, expecation to observation, greater than 1 for good rules\n",
    "            zhang: (difference of positive confidence and negative confidence) / normalization -1 for disassociation, 1 for association\n",
    "    '''\n",
    "    \n",
    "    def __init__(self, transactions):\n",
    "        self.transactions = transactions\n",
    "        self._to_onehot(self.transactions)\n",
    "    \n",
    "    \n",
    "    def _to_onehot(self, transactions):\n",
    "        '''\n",
    "            Convert to onehot dataframe\n",
    "        \n",
    "        '''\n",
    "        encoder = TransactionEncoder().fit(transactions)\n",
    "        onehot = encoder.transform(transactions)\n",
    "        onehot = pd.DataFrame(onehot, columns = encoder.columns_)\n",
    "        self.onehot = onehot\n",
    "        \n",
    "    def support(self, item):\n",
    "        '''\n",
    "        Calculate support for item, \n",
    "        Support is metric measuring percent of transactions that contain a certain pattern.\n",
    "        -------------------------\n",
    "        Parameters:\n",
    "            item:  either string of list\n",
    "        Returns:\n",
    "            support value\n",
    "        '''\n",
    "        if isinstance(item,str):\n",
    "            return self.onehot[item].mean()\n",
    "        \n",
    "        else:\n",
    "            return (self.onehot[item].mean(axis = 1) == 1).mean()\n",
    "        \n",
    "    def support_not(self, item):\n",
    "        '''\n",
    "        Calculate support for not item\n",
    "        -------------------------------\n",
    "        Parameters:\n",
    "            item: string item\n",
    "            \n",
    "        Returns:\n",
    "            support of not-item\n",
    "        '''\n",
    "        return (~self.onehot[item]).mean()\n",
    "    \n",
    "    def support_u_not_v(self, u, v):\n",
    "        '''Calculate suport of u not v, where u, v are both string item'''\n",
    "        return np.logical_and(self.onehot[u], ~self.onehot[v]).mean()\n",
    "        \n",
    "    \n",
    "    def confidence(self, u, v):\n",
    "        '''\n",
    "        Calculate confidence:\n",
    "            \n",
    "            Confidence is actually conditional probability\n",
    "            \n",
    "            suppport(u & v) = P(u & v)\n",
    "            support(u) = P(u)\n",
    "            confidence = P(u & v) / P(u)\n",
    "            P(u & v) = P(u) * P(v|u)\n",
    "            confidence = P(v|u)\n",
    "            \n",
    "            ranges between 0 and 1\n",
    "            \n",
    "        '''\n",
    "        return self.support([u,v]) / self.support(u)\n",
    "    \n",
    "    def lift(self, u, v):\n",
    "        '''\n",
    "            Calculate lift:\n",
    "            \n",
    "            support_u = %_transactions_contain_u -> probability of choosing u\n",
    "            support_v = %_transactions_contain_v -> probability of choosing v\n",
    "            support_uv has to be calcluated from data\n",
    "            However, assuming u and v are independent, \n",
    "            support_uv_independent = support_u * support_v\n",
    "            if support_uv > support_uv_independent then \n",
    "            support_uv / support_uv_independent > 1 , indicating u and v are dependent\n",
    "            that is a rule~\n",
    "            \n",
    "            This values ranges 0 ~ +inf\n",
    "            The threshold for determine good reuls is 1\n",
    "    \n",
    "            \n",
    "            Parameters:\n",
    "                u:string of item\n",
    "                v: string of item\n",
    "                \n",
    "            Returns:\n",
    "                lift of u & v\n",
    "        \n",
    "        '''\n",
    "        return self.support([u,v]) / (self.support(u) * self.support(v))\n",
    "    \n",
    "    def leverage(self, u, v):\n",
    "        '''\n",
    "            Calculate leverage of u and v\n",
    "            similary to lift, the 2 metrics are compared by subtracting independent expectation from joint probability\n",
    "            \n",
    "            This value ranges between -1 and 1\n",
    "            \n",
    "            The threshold for determin good rules is 0\n",
    "            \n",
    "            Parameters:\n",
    "                u:string of item\n",
    "                v: string of item\n",
    "                \n",
    "            Returns:\n",
    "                leverage of u & v\n",
    "        '''\n",
    "        \n",
    "        return self.support([u,v]) - self.support(u) * self.support(v)\n",
    "    \n",
    "    \n",
    "    def conviction(self, u, v):\n",
    "        '''\n",
    "        Calculate the conviction of u and v, Greater than 1 for good rule\n",
    "        -----------------------------------\n",
    "        \n",
    "        If u and not v are independent:  support_u_not_v = support(u) *  support(~v)\n",
    "        If u and not v are dependent:  support_u_not_v > support(u) * suport(~v)\n",
    "        Dependent:  support(u) * suport(~v) / self.support_u_not_v(u,v) < 1\n",
    "        \n",
    "        u and ~v are dependent -> whenever you buy u, you don't want to buy v\n",
    "        then, u and v are negatively correlated, then is not a rule\n",
    "        \n",
    "        Finally u and v has rule if conviction is larger, when it is smaller, there is not a rule\n",
    "        \n",
    "        \n",
    "        \n",
    "        '''\n",
    "        return self.support(u) * self.support_not(v) / self.support_u_not_v(u,v)\n",
    "    \n",
    "    \n",
    "    def zhang(self, u, v):\n",
    "        '''\n",
    "        zhang = P(B|A) - P(B|~A) / max(P(B|A) ,P(B|~A))   \n",
    "        zhang = confidence(A -> B) - confidence(~A -> B) / max(onfidence(A -> B) ,confidence(~A -> B))   \n",
    "        If you buy A, you want to buy B                                           \n",
    "        if you don't buy A, you want to buy B                                   \n",
    "        Add a minus sign, You want A and B occur together more                         \n",
    "\n",
    "        Subtracting the two is a value between -1 and 1, you want it to be bigger                 \n",
    "\n",
    "        if Confidence(A- > B) > Confidence(\\~A -> B), there is a positive rule\n",
    "        if Confidence(A- > B) < Confidence(\\~A -> B), there is a negative rule, which means\n",
    "        negative rule means, if you don't buy A, you probablily buy B.\n",
    "\n",
    "        Zhang's metric is more comprehensive, and ranges between -1 and 1\n",
    "        '''\n",
    "        pos_conf = self.confidence(u,v)\n",
    "        support_not_u_v = self.support(v) - self.support([v,u])\n",
    "        support_not_u = self.support_not(u)\n",
    "        neg_conf = support_not_u_v / support_not_u\n",
    "        return (pos_conf - neg_conf) / max(pos_conf, neg_conf)\n",
    "        \n",
    "    def random_items(self, size):\n",
    "        return np.random.choice(self.onehot.columns, size = size)"
   ]
  },
  {
   "cell_type": "code",
   "execution_count": 168,
   "metadata": {},
   "outputs": [],
   "source": [
    "# define a calculator object with dataset\n",
    "market = BasketCalculator(get_retail_transacations())\n",
    "\n",
    "# select 2 items\n",
    "u,v = market.random_items(2)\n",
    "\n",
    "# calculate metrics\n",
    "support_u = market.support(u)\n",
    "support_uv = market.support([u,v])\n",
    "confidence_uv = market.confidence(u,v)\n",
    "lift_uv = market.lift(u,v)\n",
    "conviction_uv = market.conviction(u,v)\n",
    "zhang_uv = market.zhang(u,v)"
   ]
  },
  {
   "cell_type": "code",
   "execution_count": 193,
   "metadata": {},
   "outputs": [
    {
     "name": "stdout",
     "output_type": "stream",
     "text": [
      "Biography Poetry\n"
     ]
    },
    {
     "data": {
      "text/plain": [
       "{'support_u': 0.40404040404040403,\n",
       " 'support_uv': 0.0,\n",
       " 'confidence_uv': 0.0,\n",
       " 'lift_uv': 0.0,\n",
       " 'conviction_uv': 0.9090909090909091,\n",
       " 'leverage_uv': -0.03673094582185491,\n",
       " 'zhang_uv': -1.0}"
      ]
     },
     "execution_count": 193,
     "metadata": {},
     "output_type": "execute_result"
    }
   ],
   "source": [
    "# define a calculator object with dataset\n",
    "market = BasketCalculator(get_books_transactions())\n",
    "\n",
    "# select 2 items\n",
    "u,v = market.random_items(2)\n",
    "\n",
    "print(u,v)\n",
    "# calculate metrics\n",
    "\n",
    "dict(\n",
    "    support_u = market.support(u),\n",
    "    support_uv = market.support([u,v]),\n",
    "    confidence_uv = market.confidence(u,v),\n",
    "    lift_uv = market.lift(u,v),\n",
    "    conviction_uv = market.conviction(u,v),\n",
    "    leverage_uv = market.leverage(u,v),\n",
    "    zhang_uv = market.zhang(u,v)\n",
    ")"
   ]
  },
  {
   "cell_type": "code",
   "execution_count": 203,
   "metadata": {},
   "outputs": [
    {
     "data": {
      "text/plain": [
       "(9709, 3460, 3353)"
      ]
     },
     "execution_count": 203,
     "metadata": {},
     "output_type": "execute_result"
    }
   ],
   "source": [
    "gifts = pd.read_csv('data/online_retail.csv')\n",
    "\n",
    "# description is not unique, stockCode is the unique ID\n",
    "gifts.InvoiceNo.nunique(), gifts.Description.nunique(), gifts.StockCode.nunique()"
   ]
  },
  {
   "cell_type": "code",
   "execution_count": 204,
   "metadata": {},
   "outputs": [
    {
     "data": {
      "text/plain": [
       "0             IVORY STRING CURTAIN WITH POLE \n",
       "1               PINK AND BLACK STRING CURTAIN\n",
       "2                       PSYCHEDELIC TILE HOOK\n",
       "3                       ENAMEL COLANDER CREAM\n",
       "4         SMALL FOLDING SCISSOR(POINTED EDGE)\n",
       "                         ...                 \n",
       "227755            SET OF 5 LUCKY CAT MAGNETS \n",
       "227756                       CARD DOLLY GIRL \n",
       "227757                TEA PARTY BIRTHDAY CARD\n",
       "227758                VINTAGE KID DOLLY CARD \n",
       "227759                ELEPHANT BIRTHDAY CARD \n",
       "Name: Description, Length: 227760, dtype: object"
      ]
     },
     "execution_count": 204,
     "metadata": {},
     "output_type": "execute_result"
    }
   ],
   "source": [
    "gifts.Description"
   ]
  },
  {
   "cell_type": "code",
   "execution_count": null,
   "metadata": {},
   "outputs": [],
   "source": []
  }
 ],
 "metadata": {
  "kernelspec": {
   "display_name": "Python 3",
   "language": "python",
   "name": "python3"
  },
  "language_info": {
   "codemirror_mode": {
    "name": "ipython",
    "version": 3
   },
   "file_extension": ".py",
   "mimetype": "text/x-python",
   "name": "python",
   "nbconvert_exporter": "python",
   "pygments_lexer": "ipython3",
   "version": "3.7.6"
  }
 },
 "nbformat": 4,
 "nbformat_minor": 4
}
